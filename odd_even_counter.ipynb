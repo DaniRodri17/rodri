{
  "nbformat": 4,
  "nbformat_minor": 0,
  "metadata": {
    "colab": {
      "provenance": [],
      "authorship_tag": "ABX9TyMFq1gCM9lqJU0NV75MxInA",
      "include_colab_link": true
    },
    "kernelspec": {
      "name": "python3",
      "display_name": "Python 3"
    },
    "language_info": {
      "name": "python"
    }
  },
  "cells": [
    {
      "cell_type": "markdown",
      "metadata": {
        "id": "view-in-github",
        "colab_type": "text"
      },
      "source": [
        "<a href=\"https://colab.research.google.com/github/DaniRodri17/rodri/blob/main/odd_even_counter.ipynb\" target=\"_parent\"><img src=\"https://colab.research.google.com/assets/colab-badge.svg\" alt=\"Open In Colab\"/></a>"
      ]
    },
    {
      "cell_type": "code",
      "execution_count": 1,
      "metadata": {
        "id": "1uP8kIaqpXK8"
      },
      "outputs": [],
      "source": [
        "import numpy as np"
      ]
    },
    {
      "cell_type": "code",
      "source": [
        "arr = np.random.randint(1,100,100)\n",
        "np.random.seed(123)"
      ],
      "metadata": {
        "id": "PlOy6-qOqSvF"
      },
      "execution_count": 17,
      "outputs": []
    },
    {
      "cell_type": "code",
      "source": [
        "arr"
      ],
      "metadata": {
        "colab": {
          "base_uri": "https://localhost:8080/"
        },
        "id": "kCFQT-39qobu",
        "outputId": "de64536f-7062-41e6-da05-084e7ec4a4b5"
      },
      "execution_count": 18,
      "outputs": [
        {
          "output_type": "execute_result",
          "data": {
            "text/plain": [
              "array([85, 41, 73, 50, 52, 12, 24, 67, 88, 94, 52, 85, 51, 94, 24, 36, 69,\n",
              "       57, 41, 54, 22, 16, 83, 87, 35, 35, 79, 14, 34, 75, 49, 70,  2, 65,\n",
              "       71, 14,  3,  4, 26, 28, 45, 83, 83, 96, 76,  2, 51, 94, 16, 81, 21,\n",
              "       69,  4, 60,  7, 15, 40, 34,  3, 62, 46, 50, 58, 16, 28, 70, 99, 39,\n",
              "       42, 85,  5, 19, 78, 28, 37, 54, 65, 68, 78, 45, 96, 18, 24, 95, 32,\n",
              "       48, 88, 36, 82, 62,  4,  6, 23, 53,  3, 17, 71, 76, 90, 19])"
            ]
          },
          "metadata": {},
          "execution_count": 18
        }
      ]
    },
    {
      "cell_type": "code",
      "source": [
        "even = arr[arr%2==0]\n",
        "odd = arr[arr%2!=0]"
      ],
      "metadata": {
        "id": "4G6MYLLmqpFn"
      },
      "execution_count": 19,
      "outputs": []
    },
    {
      "cell_type": "code",
      "source": [
        "print('There are ', arr[odd].size, 'odd numbers in the array')\n",
        "print('There are ', arr[even].size, 'even numbers in the array')"
      ],
      "metadata": {
        "colab": {
          "base_uri": "https://localhost:8080/"
        },
        "id": "3nDCMkaEqwdV",
        "outputId": "b157bee0-e345-44f1-8836-c193e8976205"
      },
      "execution_count": 20,
      "outputs": [
        {
          "output_type": "stream",
          "name": "stdout",
          "text": [
            "There are  44 odd numbers in the array\n",
            "There are  56 even numbers in the array\n"
          ]
        }
      ]
    },
    {
      "cell_type": "code",
      "source": [],
      "metadata": {
        "id": "wrzjqIS7rVhQ"
      },
      "execution_count": null,
      "outputs": []
    }
  ]
}