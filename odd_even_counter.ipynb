{
  "nbformat": 4,
  "nbformat_minor": 0,
  "metadata": {
    "colab": {
      "provenance": [],
      "authorship_tag": "ABX9TyNYTxNPiSQzbPPLBBrs68v5",
      "include_colab_link": true
    },
    "kernelspec": {
      "name": "python3",
      "display_name": "Python 3"
    },
    "language_info": {
      "name": "python"
    }
  },
  "cells": [
    {
      "cell_type": "markdown",
      "metadata": {
        "id": "view-in-github",
        "colab_type": "text"
      },
      "source": [
        "<a href=\"https://colab.research.google.com/github/DaniRodri17/rodri/blob/main/odd_even_counter.ipynb\" target=\"_parent\"><img src=\"https://colab.research.google.com/assets/colab-badge.svg\" alt=\"Open In Colab\"/></a>"
      ]
    },
    {
      "cell_type": "code",
      "execution_count": 1,
      "metadata": {
        "id": "1uP8kIaqpXK8"
      },
      "outputs": [],
      "source": [
        "import numpy as np"
      ]
    },
    {
      "cell_type": "code",
      "source": [
        "arr = np.random.randint(1,100,100)"
      ],
      "metadata": {
        "id": "PlOy6-qOqSvF"
      },
      "execution_count": 4,
      "outputs": []
    },
    {
      "cell_type": "code",
      "source": [],
      "metadata": {
        "colab": {
          "base_uri": "https://localhost:8080/"
        },
        "id": "kCFQT-39qobu",
        "outputId": "d0c038df-accc-4eda-bc51-af3cced4754a"
      },
      "execution_count": 5,
      "outputs": [
        {
          "output_type": "execute_result",
          "data": {
            "text/plain": [
              "array([36, 88, 76, 84,  1, 63, 55, 38, 58, 43, 64, 58, 29, 22, 65, 35, 42,\n",
              "       58, 63, 59, 29, 80, 29, 12, 58, 30, 44, 54, 22, 42, 23, 90, 11,  9,\n",
              "       22, 76, 83, 13, 42, 64, 73, 26,  1, 23, 35, 71, 85, 56, 51, 59, 66,\n",
              "       68, 31, 64, 85, 15, 97, 20, 22, 93, 73, 76, 67, 66, 76, 39, 23, 87,\n",
              "       96, 60, 71, 16,  3, 47, 79, 93, 56, 20,  2, 64, 54, 21, 91, 50, 50,\n",
              "        6, 53, 98, 70, 46,  9, 23, 96, 57, 66, 79,  4, 18, 59, 73])"
            ]
          },
          "metadata": {},
          "execution_count": 5
        }
      ]
    },
    {
      "cell_type": "code",
      "source": [
        "even = arr[arr%2==0]\n",
        "odd = arr[arr%2!=0]"
      ],
      "metadata": {
        "id": "4G6MYLLmqpFn"
      },
      "execution_count": null,
      "outputs": []
    },
    {
      "cell_type": "code",
      "source": [
        "print('There are ', arr[odd].size, 'odd numbers in the array')\n",
        "print('There are ', arr[even].size, 'even numbers in the array')"
      ],
      "metadata": {
        "colab": {
          "base_uri": "https://localhost:8080/"
        },
        "id": "3nDCMkaEqwdV",
        "outputId": "3bfc649c-301b-469d-c001-121bd911b1cc"
      },
      "execution_count": 16,
      "outputs": [
        {
          "output_type": "stream",
          "name": "stdout",
          "text": [
            "There are  48 odd numbers in the array\n",
            "There are  52 even numbers in the array\n"
          ]
        }
      ]
    },
    {
      "cell_type": "code",
      "source": [],
      "metadata": {
        "id": "wrzjqIS7rVhQ"
      },
      "execution_count": null,
      "outputs": []
    }
  ]
}