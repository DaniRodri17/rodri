{
  "nbformat": 4,
  "nbformat_minor": 0,
  "metadata": {
    "colab": {
      "provenance": []
    },
    "kernelspec": {
      "name": "python3",
      "display_name": "Python 3"
    },
    "language_info": {
      "name": "python"
    }
  },
  "cells": [
    {
      "cell_type": "code",
      "execution_count": 40,
      "metadata": {
        "id": "cXedhO9MbwfJ"
      },
      "outputs": [],
      "source": [
        "import numpy as np\n",
        "np.random.seed(9)"
      ]
    },
    {
      "cell_type": "code",
      "source": [
        "a = np.random.randint(1, 15, 10)\n",
        "a"
      ],
      "metadata": {
        "colab": {
          "base_uri": "https://localhost:8080/"
        },
        "id": "lrOcDtzUb4nv",
        "outputId": "6f5e2b0c-9678-449c-cf30-1f2a0b1aedea"
      },
      "execution_count": 41,
      "outputs": [
        {
          "output_type": "execute_result",
          "data": {
            "text/plain": [
              "array([13,  6,  7,  9, 12,  7, 14,  2,  7,  5])"
            ]
          },
          "metadata": {},
          "execution_count": 41
        }
      ]
    },
    {
      "cell_type": "code",
      "source": [
        "print('The mean is ', a.mean())\n",
        "print('The median is ', np.median(a))\n",
        "print('The standard deviation is ', a.std())\n",
        "print('The variance is ', a.var())\n",
        "print('The minimum is ', a.min())\n",
        "print('The maximum is ', a.max())\n",
        "print('The sum is ', a.sum())"
      ],
      "metadata": {
        "colab": {
          "base_uri": "https://localhost:8080/"
        },
        "id": "vSxEiLr1jNdV",
        "outputId": "f9695620-12fc-4480-92f0-e70324e27b94"
      },
      "execution_count": 42,
      "outputs": [
        {
          "output_type": "stream",
          "name": "stdout",
          "text": [
            "The mean is  8.2\n",
            "The median is  7.0\n",
            "The standard deviation is  3.6000000000000005\n",
            "The variance is  12.960000000000003\n",
            "The minimum is  2\n",
            "The maximum is  14\n",
            "The sum is  82\n"
          ]
        }
      ]
    },
    {
      "cell_type": "code",
      "source": [],
      "metadata": {
        "id": "zZJ0kdRQo2V6"
      },
      "execution_count": null,
      "outputs": []
    }
  ]
}