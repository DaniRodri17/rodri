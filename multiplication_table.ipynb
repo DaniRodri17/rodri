{
  "nbformat": 4,
  "nbformat_minor": 0,
  "metadata": {
    "colab": {
      "provenance": [],
      "authorship_tag": "ABX9TyP3r3VlN1qZWOQuibF4CWJH",
      "include_colab_link": true
    },
    "kernelspec": {
      "name": "python3",
      "display_name": "Python 3"
    },
    "language_info": {
      "name": "python"
    }
  },
  "cells": [
    {
      "cell_type": "markdown",
      "metadata": {
        "id": "view-in-github",
        "colab_type": "text"
      },
      "source": [
        "<a href=\"https://colab.research.google.com/github/DaniRodri17/rodri/blob/main/multiplication_table.ipynb\" target=\"_parent\"><img src=\"https://colab.research.google.com/assets/colab-badge.svg\" alt=\"Open In Colab\"/></a>"
      ]
    },
    {
      "cell_type": "code",
      "execution_count": 1,
      "metadata": {
        "id": "z72WivOMuJjl"
      },
      "outputs": [],
      "source": [
        "import numpy as np"
      ]
    },
    {
      "cell_type": "code",
      "source": [
        "arr = np.arange(1, 13)\n",
        "arr"
      ],
      "metadata": {
        "colab": {
          "base_uri": "https://localhost:8080/"
        },
        "id": "NFz4sjdLupcg",
        "outputId": "6f699b2f-aa05-4111-bc22-2b1805659f54"
      },
      "execution_count": 29,
      "outputs": [
        {
          "output_type": "execute_result",
          "data": {
            "text/plain": [
              "array([ 1,  2,  3,  4,  5,  6,  7,  8,  9, 10, 11, 12])"
            ]
          },
          "metadata": {},
          "execution_count": 29
        }
      ]
    },
    {
      "cell_type": "code",
      "source": [
        "q = []\n",
        "for x in np.arange(1, 13):\n",
        "  q.append(x * arr)\n",
        ""
      ],
      "metadata": {
        "id": "Mzq8jaZ2x0Yn"
      },
      "execution_count": 30,
      "outputs": []
    },
    {
      "cell_type": "code",
      "source": [
        "result = np.array(q)\n",
        "result"
      ],
      "metadata": {
        "colab": {
          "base_uri": "https://localhost:8080/"
        },
        "id": "ObnOTcbk3su1",
        "outputId": "0b880c71-563d-4099-a5bf-840868f4e166"
      },
      "execution_count": 33,
      "outputs": [
        {
          "output_type": "execute_result",
          "data": {
            "text/plain": [
              "array([[  1,   2,   3,   4,   5,   6,   7,   8,   9,  10,  11,  12],\n",
              "       [  2,   4,   6,   8,  10,  12,  14,  16,  18,  20,  22,  24],\n",
              "       [  3,   6,   9,  12,  15,  18,  21,  24,  27,  30,  33,  36],\n",
              "       [  4,   8,  12,  16,  20,  24,  28,  32,  36,  40,  44,  48],\n",
              "       [  5,  10,  15,  20,  25,  30,  35,  40,  45,  50,  55,  60],\n",
              "       [  6,  12,  18,  24,  30,  36,  42,  48,  54,  60,  66,  72],\n",
              "       [  7,  14,  21,  28,  35,  42,  49,  56,  63,  70,  77,  84],\n",
              "       [  8,  16,  24,  32,  40,  48,  56,  64,  72,  80,  88,  96],\n",
              "       [  9,  18,  27,  36,  45,  54,  63,  72,  81,  90,  99, 108],\n",
              "       [ 10,  20,  30,  40,  50,  60,  70,  80,  90, 100, 110, 120],\n",
              "       [ 11,  22,  33,  44,  55,  66,  77,  88,  99, 110, 121, 132],\n",
              "       [ 12,  24,  36,  48,  60,  72,  84,  96, 108, 120, 132, 144]])"
            ]
          },
          "metadata": {},
          "execution_count": 33
        }
      ]
    },
    {
      "cell_type": "code",
      "source": [],
      "metadata": {
        "id": "HwDSc_lQ3-Wo"
      },
      "execution_count": null,
      "outputs": []
    }
  ]
}