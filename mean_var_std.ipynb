{
  "nbformat": 4,
  "nbformat_minor": 0,
  "metadata": {
    "colab": {
      "provenance": [],
      "mount_file_id": "1xL9Lj6K4x5WnOkFE9ATKlxxz24IKrb5A",
      "authorship_tag": "ABX9TyPZh4semclLgJyCfrKFfZMo",
      "include_colab_link": true
    },
    "kernelspec": {
      "name": "python3",
      "display_name": "Python 3"
    },
    "language_info": {
      "name": "python"
    }
  },
  "cells": [
    {
      "cell_type": "markdown",
      "metadata": {
        "id": "view-in-github",
        "colab_type": "text"
      },
      "source": [
        "<a href=\"https://colab.research.google.com/github/DaniRodri17/rodri/blob/main/mean_var_std.ipynb\" target=\"_parent\"><img src=\"https://colab.research.google.com/assets/colab-badge.svg\" alt=\"Open In Colab\"/></a>"
      ]
    },
    {
      "cell_type": "code",
      "source": [
        "import pandas as pd\n",
        "import numpy as np"
      ],
      "metadata": {
        "id": "FUYy9zPBdN3v"
      },
      "execution_count": 78,
      "outputs": []
    },
    {
      "cell_type": "code",
      "source": [
        "x = np.array([0,1,2,3,4,5,6,7,8])\n",
        "x"
      ],
      "metadata": {
        "colab": {
          "base_uri": "https://localhost:8080/"
        },
        "id": "eozE94O1Hy2N",
        "outputId": "7d3926d1-5c5a-4753-fcf8-1aee6d7209ef"
      },
      "execution_count": 79,
      "outputs": [
        {
          "output_type": "execute_result",
          "data": {
            "text/plain": [
              "array([0, 1, 2, 3, 4, 5, 6, 7, 8])"
            ]
          },
          "metadata": {},
          "execution_count": 79
        }
      ]
    },
    {
      "cell_type": "code",
      "source": [
        "def calculate(arr):\n",
        "  x = arr.reshape(3,3)\n",
        "  s = {'mean' : [x.mean(axis=0).tolist(),x.mean(axis=1).tolist(),x.mean().tolist()],\n",
        "       'variance' : [x.var(axis=0).tolist(), x.var(axis=1).tolist(), x.var().tolist()],\n",
        "       'standard deviation': [x.std(axis=0).tolist(), x.std(axis=1).tolist(), x.std().tolist()],\n",
        "       'max' : [x.max(axis=0).tolist(), x.max(axis=1).tolist(), x.max().tolist()],\n",
        "       'min' : [x.min(axis=0).tolist(), x.min(axis=1).tolist(), x.min().tolist()],\n",
        "       'sum' : [x.sum(axis=0).tolist(), x.sum(axis=1).tolist(), x.sum().tolist()]\n",
        "       }\n",
        "  return s"
      ],
      "metadata": {
        "id": "GjRuBYCYHXNg"
      },
      "execution_count": 80,
      "outputs": []
    },
    {
      "cell_type": "code",
      "source": [
        "f = calculate(x)\n",
        "f"
      ],
      "metadata": {
        "colab": {
          "base_uri": "https://localhost:8080/"
        },
        "id": "3JfgEuppH-fM",
        "outputId": "c169ee89-fc33-458b-f737-13a09c08005a"
      },
      "execution_count": 81,
      "outputs": [
        {
          "output_type": "execute_result",
          "data": {
            "text/plain": [
              "{'mean': [[3.0, 4.0, 5.0], [1.0, 4.0, 7.0], 4.0],\n",
              " 'variance': [[6.0, 6.0, 6.0],\n",
              "  [0.6666666666666666, 0.6666666666666666, 0.6666666666666666],\n",
              "  6.666666666666667],\n",
              " 'standard deviation': [[2.449489742783178,\n",
              "   2.449489742783178,\n",
              "   2.449489742783178],\n",
              "  [0.816496580927726, 0.816496580927726, 0.816496580927726],\n",
              "  2.581988897471611],\n",
              " 'max': [[6, 7, 8], [2, 5, 8], 8],\n",
              " 'min': [[0, 1, 2], [0, 3, 6], 0],\n",
              " 'sum': [[9, 12, 15], [3, 12, 21], 36]}"
            ]
          },
          "metadata": {},
          "execution_count": 81
        }
      ]
    }
  ]
}