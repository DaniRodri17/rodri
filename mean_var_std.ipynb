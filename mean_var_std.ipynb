{
  "nbformat": 4,
  "nbformat_minor": 0,
  "metadata": {
    "colab": {
      "provenance": [],
      "mount_file_id": "1xL9Lj6K4x5WnOkFE9ATKlxxz24IKrb5A",
      "authorship_tag": "ABX9TyP3z2P0CHKfCGU1qR5ATkty",
      "include_colab_link": true
    },
    "kernelspec": {
      "name": "python3",
      "display_name": "Python 3"
    },
    "language_info": {
      "name": "python"
    }
  },
  "cells": [
    {
      "cell_type": "markdown",
      "metadata": {
        "id": "view-in-github",
        "colab_type": "text"
      },
      "source": [
        "<a href=\"https://colab.research.google.com/github/DaniRodri17/rodri/blob/main/mean_var_std.ipynb\" target=\"_parent\"><img src=\"https://colab.research.google.com/assets/colab-badge.svg\" alt=\"Open In Colab\"/></a>"
      ]
    },
    {
      "cell_type": "code",
      "source": [
        "import pandas as pd\n",
        "import numpy as np"
      ],
      "metadata": {
        "id": "FUYy9zPBdN3v"
      },
      "execution_count": 78,
      "outputs": []
    },
    {
      "cell_type": "code",
      "source": [
        "x = np.array([0,1,5,2,3,4,5,6,7,8])\n",
        "x"
      ],
      "metadata": {
        "colab": {
          "base_uri": "https://localhost:8080/"
        },
        "id": "eozE94O1Hy2N",
        "outputId": "c95c6905-7464-4a99-e312-bd27c6fe46ac"
      },
      "execution_count": 85,
      "outputs": [
        {
          "output_type": "execute_result",
          "data": {
            "text/plain": [
              "array([0, 1, 5, 2, 3, 4, 5, 6, 7, 8])"
            ]
          },
          "metadata": {},
          "execution_count": 85
        }
      ]
    },
    {
      "cell_type": "code",
      "source": [
        "def calculate(arr):\n",
        "  try:\n",
        "    x = arr.reshape(3,3)\n",
        "    s = {'mean' : [x.mean(axis=0).tolist(),x.mean(axis=1).tolist(),x.mean().tolist()],\n",
        "        'variance' : [x.var(axis=0).tolist(), x.var(axis=1).tolist(), x.var().tolist()],\n",
        "        'standard deviation': [x.std(axis=0).tolist(), x.std(axis=1).tolist(), x.std().tolist()],\n",
        "        'max' : [x.max(axis=0).tolist(), x.max(axis=1).tolist(), x.max().tolist()],\n",
        "        'min' : [x.min(axis=0).tolist(), x.min(axis=1).tolist(), x.min().tolist()],\n",
        "        'sum' : [x.sum(axis=0).tolist(), x.sum(axis=1).tolist(), x.sum().tolist()]\n",
        "        }\n",
        "  except ValueError:\n",
        "    s = 'List must contain nine numbers.'\n",
        "  return s"
      ],
      "metadata": {
        "id": "GjRuBYCYHXNg"
      },
      "execution_count": 86,
      "outputs": []
    },
    {
      "cell_type": "code",
      "source": [
        "f = calculate(x)\n",
        "f"
      ],
      "metadata": {
        "colab": {
          "base_uri": "https://localhost:8080/",
          "height": 36
        },
        "id": "3JfgEuppH-fM",
        "outputId": "3e190d30-1a93-4a86-b394-e6a642571350"
      },
      "execution_count": 87,
      "outputs": [
        {
          "output_type": "execute_result",
          "data": {
            "text/plain": [
              "'List must contain nine numbers.'"
            ],
            "application/vnd.google.colaboratory.intrinsic+json": {
              "type": "string"
            }
          },
          "metadata": {},
          "execution_count": 87
        }
      ]
    },
    {
      "cell_type": "code",
      "source": [],
      "metadata": {
        "id": "IWQx00wvYtif"
      },
      "execution_count": null,
      "outputs": []
    }
  ]
}